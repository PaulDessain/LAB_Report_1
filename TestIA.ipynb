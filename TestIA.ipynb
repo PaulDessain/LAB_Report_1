{
  "nbformat": 4,
  "nbformat_minor": 0,
  "metadata": {
    "colab": {
      "provenance": [],
      "authorship_tag": "ABX9TyOlatD+pGSALkV7l77RztRi",
      "include_colab_link": true
    },
    "kernelspec": {
      "name": "python3",
      "display_name": "Python 3"
    },
    "language_info": {
      "name": "python"
    }
  },
  "cells": [
    {
      "cell_type": "markdown",
      "metadata": {
        "id": "view-in-github",
        "colab_type": "text"
      },
      "source": [
        "<a href=\"https://colab.research.google.com/github/PaulDessain/LAB_Report_1/blob/main/TestIA.ipynb\" target=\"_parent\"><img src=\"https://colab.research.google.com/assets/colab-badge.svg\" alt=\"Open In Colab\"/></a>"
      ]
    },
    {
      "cell_type": "code",
      "execution_count": null,
      "metadata": {
        "id": "nInmywbTAP9E"
      },
      "outputs": [],
      "source": [
        "!pip install gdown\n",
        "import random\n",
        "import numpy as np\n",
        "import csv\n",
        "\n",
        "import torch\n",
        "import torch.nn as nn\n",
        "import torch.optim as optim\n",
        "import torch.nn.functional as F\n",
        "!gdown --id 12Jv1GpSBRCItwxP8LXBXDhOAow609IUP # Dowload a SentimentCSV file\n"
      ]
    },
    {
      "cell_type": "code",
      "source": [
        "def get_tokenized_corpus(corpus):\n",
        "  tokenized_corpus = []\n",
        "\n",
        "  #######################\n",
        "  # Q: Process the corpus\n",
        "  #######################\n",
        "  for sentence in corpus:\n",
        "    tokenized_sentence =[]\n",
        "    for token in sentence.split(' '): \n",
        "      tokenized_sentence.append(token)\n",
        "    tokenized_corpus.append(tokenized_sentence)\n",
        " \n",
        "  return tokenized_corpus\n",
        "\n",
        "  def get_word2idx(tokenized_corpus):\n",
        "    vocabulary = []\n",
        "    for sentence in tokenized_corpus:\n",
        "      for token in sentence:\n",
        "        if token not in vocabulary:\n",
        "          vocabulary.append(token)\n",
        "    word2idx = {w: idx+1 for (idx, w) in enumerate(vocabulary)}\n",
        "    word2idx['<pad>'] = 0\n",
        "  \n",
        " \n",
        "  return word2idx"
      ],
      "metadata": {
        "id": "CbPelAqdAblQ"
      },
      "execution_count": 7,
      "outputs": []
    },
    {
      "cell_type": "code",
      "source": [],
      "metadata": {
        "id": "OzQaIDGgB3oi"
      },
      "execution_count": null,
      "outputs": []
    }
  ]
}